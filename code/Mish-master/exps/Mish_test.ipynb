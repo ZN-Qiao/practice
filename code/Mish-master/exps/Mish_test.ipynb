{
  "nbformat": 4,
  "nbformat_minor": 0,
  "metadata": {
    "colab": {
      "name": "Mish_test.ipynb",
      "provenance": []
    },
    "kernelspec": {
      "name": "python3",
      "display_name": "Python 3"
    },
    "accelerator": "GPU"
  },
  "cells": [
    {
      "cell_type": "code",
      "metadata": {
        "id": "bDVOnDZMMItc"
      },
      "source": [
        "!git clone https://github.com/digantamisra98/Mish.git"
      ],
      "execution_count": null,
      "outputs": []
    },
    {
      "cell_type": "code",
      "metadata": {
        "id": "9bUreYEMN0FF"
      },
      "source": [
        "!pip install wandb\r\n",
        "!pip install ptflops\r\n",
        "!pip install git+https://github.com/lessw2020/Ranger-Deep-Learning-Optimizer.git"
      ],
      "execution_count": null,
      "outputs": []
    },
    {
      "cell_type": "code",
      "metadata": {
        "id": "wZW2jEBAMRMN"
      },
      "source": [
        "import os\r\n",
        "os.chdir(\"/content/Mish/exps\")"
      ],
      "execution_count": null,
      "outputs": []
    },
    {
      "cell_type": "code",
      "metadata": {
        "id": "vN-y02QUNW7e"
      },
      "source": [
        "!wandb login"
      ],
      "execution_count": null,
      "outputs": []
    },
    {
      "cell_type": "code",
      "metadata": {
        "id": "RZ_cxnL9QBA6"
      },
      "source": [
        "!wandb sweep sweep.yaml"
      ],
      "execution_count": null,
      "outputs": []
    },
    {
      "cell_type": "code",
      "metadata": {
        "collapsed": true,
        "id": "FyBqqaBHQdDJ"
      },
      "source": [
        "#!wandb agent {insert sweep ID printed in the above cell's output}"
      ],
      "execution_count": null,
      "outputs": []
    }
  ]
}